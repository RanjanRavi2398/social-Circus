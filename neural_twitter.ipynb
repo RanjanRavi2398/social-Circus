{
  "nbformat": 4,
  "nbformat_minor": 0,
  "metadata": {
    "kernelspec": {
      "display_name": "Python 3",
      "language": "python",
      "name": "python3"
    },
    "language_info": {
      "codemirror_mode": {
        "name": "ipython",
        "version": 3
      },
      "file_extension": ".py",
      "mimetype": "text/x-python",
      "name": "python",
      "nbconvert_exporter": "python",
      "pygments_lexer": "ipython3",
      "version": "3.8.10"
    },
    "colab": {
      "name": "neural_twitter.ipynb",
      "provenance": []
    },
    "accelerator": "GPU"
  },
  "cells": [
    {
      "cell_type": "code",
      "metadata": {
        "id": "dvDA8yfQkIVf"
      },
      "source": [
        "import tensorflow\n",
        "tensorflow.random.set_seed(1)\n",
        "from tensorflow.python.keras.layers import Dense\n",
        "from tensorflow.keras.layers import Dropout\n",
        "from tensorflow.python.keras.models import Sequential\n",
        "from tensorflow.python.keras.wrappers.scikit_learn import KerasRegressor\n",
        "from sklearn.metrics import mean_absolute_error\n",
        "from sklearn.metrics import mean_squared_error\n",
        "from sklearn.model_selection import train_test_split\n",
        "from sklearn.preprocessing import MinMaxScaler"
      ],
      "execution_count": 2,
      "outputs": []
    },
    {
      "cell_type": "code",
      "metadata": {
        "colab": {
          "base_uri": "https://localhost:8080/"
        },
        "id": "t0iyktTtlALt",
        "outputId": "4284aef3-1936-4d1f-8cdb-d0cd1b3ae732"
      },
      "source": [
        "from google.colab import drive\n",
        "drive.mount('/content/drive')"
      ],
      "execution_count": 1,
      "outputs": [
        {
          "output_type": "stream",
          "text": [
            "Mounted at /content/drive\n"
          ],
          "name": "stdout"
        }
      ]
    },
    {
      "cell_type": "code",
      "metadata": {
        "colab": {
          "base_uri": "https://localhost:8080/"
        },
        "id": "YWaUPa58lAiM",
        "outputId": "4407dadc-191c-4648-9d56-1eb51d023950"
      },
      "source": [
        "cd /content/drive/MyDrive/LSTM for reducing interscanner variablilty/680/\n"
      ],
      "execution_count": 3,
      "outputs": [
        {
          "output_type": "stream",
          "text": [
            "/content/drive/MyDrive/LSTM for reducing interscanner variablilty/680\n"
          ],
          "name": "stdout"
        }
      ]
    },
    {
      "cell_type": "code",
      "metadata": {
        "id": "y3f-9uxLkIVk"
      },
      "source": [
        "import numpy as np\n",
        "import pandas as pd\n",
        "import warnings\n",
        "from pandas.api.types import is_numeric_dtype, is_object_dtype\n",
        "warnings.filterwarnings('ignore')"
      ],
      "execution_count": 4,
      "outputs": []
    },
    {
      "cell_type": "code",
      "metadata": {
        "colab": {
          "base_uri": "https://localhost:8080/",
          "height": 814
        },
        "id": "fYcCmNO8kIVl",
        "outputId": "51b0a14e-8310-4295-fb91-5a8ff9c04ca6"
      },
      "source": [
        "data1=pd.read_csv(\"Twitter.csv\")\n",
        "data1.head(10)"
      ],
      "execution_count": 5,
      "outputs": [
        {
          "output_type": "execute_result",
          "data": {
            "text/html": [
              "<div>\n",
              "<style scoped>\n",
              "    .dataframe tbody tr th:only-of-type {\n",
              "        vertical-align: middle;\n",
              "    }\n",
              "\n",
              "    .dataframe tbody tr th {\n",
              "        vertical-align: top;\n",
              "    }\n",
              "\n",
              "    .dataframe thead th {\n",
              "        text-align: right;\n",
              "    }\n",
              "</style>\n",
              "<table border=\"1\" class=\"dataframe\">\n",
              "  <thead>\n",
              "    <tr style=\"text-align: right;\">\n",
              "      <th></th>\n",
              "      <th>Unnamed: 0</th>\n",
              "      <th>Id</th>\n",
              "      <th>Post Contet</th>\n",
              "      <th>Sentiment score</th>\n",
              "      <th>Post Length</th>\n",
              "      <th>Hashtag count</th>\n",
              "      <th>Content URL count</th>\n",
              "      <th>Tweet count</th>\n",
              "      <th>Followers count</th>\n",
              "      <th>Listed Count</th>\n",
              "      <th>Media Type</th>\n",
              "      <th>Published DateTime</th>\n",
              "      <th>Mentions Count</th>\n",
              "      <th>Post author verified</th>\n",
              "      <th>Likes</th>\n",
              "      <th>Shares</th>\n",
              "      <th>Comments</th>\n",
              "      <th>Impact</th>\n",
              "    </tr>\n",
              "  </thead>\n",
              "  <tbody>\n",
              "    <tr>\n",
              "      <th>0</th>\n",
              "      <td>41370</td>\n",
              "      <td>6d967b125fcecba6357dbc43f8f380cf2d6d7a51</td>\n",
              "      <td>Sana all na lang.</td>\n",
              "      <td>0.00</td>\n",
              "      <td>17.0</td>\n",
              "      <td>0.0</td>\n",
              "      <td>0.0</td>\n",
              "      <td>1660.0</td>\n",
              "      <td>133.0</td>\n",
              "      <td>0</td>\n",
              "      <td>TEXT</td>\n",
              "      <td>2021-01-28 12:17:24+00:00</td>\n",
              "      <td>0.0</td>\n",
              "      <td>0.0</td>\n",
              "      <td>0.0</td>\n",
              "      <td>0.0</td>\n",
              "      <td>0.0</td>\n",
              "      <td>0.0</td>\n",
              "    </tr>\n",
              "    <tr>\n",
              "      <th>1</th>\n",
              "      <td>27955</td>\n",
              "      <td>22dc5f808a8589186767412f39e5c88ae9753d04</td>\n",
              "      <td>キスマイ玉森裕太「ボス恋」台本の裏話明かす\\n\\n@TBS_asachan @bosskoi...</td>\n",
              "      <td>19.30</td>\n",
              "      <td>84.0</td>\n",
              "      <td>0.0</td>\n",
              "      <td>1.0</td>\n",
              "      <td>318924.0</td>\n",
              "      <td>1428273.0</td>\n",
              "      <td>5454</td>\n",
              "      <td>TEXT</td>\n",
              "      <td>2021-02-24 06:51:02+00:00</td>\n",
              "      <td>0.0</td>\n",
              "      <td>1.0</td>\n",
              "      <td>10.0</td>\n",
              "      <td>1.0</td>\n",
              "      <td>0.0</td>\n",
              "      <td>110.0</td>\n",
              "    </tr>\n",
              "    <tr>\n",
              "      <th>2</th>\n",
              "      <td>38151</td>\n",
              "      <td>7f224e66ad757e3066d45947881bcaab91f8e57f</td>\n",
              "      <td>SuperM’s album isn’t even out yet and there’s ...</td>\n",
              "      <td>0.00</td>\n",
              "      <td>78.0</td>\n",
              "      <td>0.0</td>\n",
              "      <td>0.0</td>\n",
              "      <td>39976.0</td>\n",
              "      <td>1560.0</td>\n",
              "      <td>0</td>\n",
              "      <td>TEXT</td>\n",
              "      <td>2020-09-15 01:16:32+00:00</td>\n",
              "      <td>0.0</td>\n",
              "      <td>0.0</td>\n",
              "      <td>0.0</td>\n",
              "      <td>0.0</td>\n",
              "      <td>0.0</td>\n",
              "      <td>0.0</td>\n",
              "    </tr>\n",
              "    <tr>\n",
              "      <th>3</th>\n",
              "      <td>13558</td>\n",
              "      <td>5acc220e7a337efafc4c847b7f74680ca2515890</td>\n",
              "      <td>மத்திய அரசின் நலத்திட்டங்களை மக்களுக்கு சென்று...</td>\n",
              "      <td>0.00</td>\n",
              "      <td>284.0</td>\n",
              "      <td>2.0</td>\n",
              "      <td>0.0</td>\n",
              "      <td>8045.0</td>\n",
              "      <td>27191.0</td>\n",
              "      <td>26</td>\n",
              "      <td>TEXT</td>\n",
              "      <td>2021-02-14 03:53:53+00:00</td>\n",
              "      <td>0.0</td>\n",
              "      <td>1.0</td>\n",
              "      <td>460.0</td>\n",
              "      <td>219.0</td>\n",
              "      <td>4.0</td>\n",
              "      <td>6830.0</td>\n",
              "    </tr>\n",
              "    <tr>\n",
              "      <th>4</th>\n",
              "      <td>17071</td>\n",
              "      <td>863abf834897a06afdc459788b34abeae6298f3a</td>\n",
              "      <td>【熊本県人吉市】球磨川氾濫後のくま川鉄道の線路被害状況 hamusoku.com/archi...</td>\n",
              "      <td>-20.00</td>\n",
              "      <td>80.0</td>\n",
              "      <td>0.0</td>\n",
              "      <td>1.0</td>\n",
              "      <td>210996.0</td>\n",
              "      <td>2385.0</td>\n",
              "      <td>0</td>\n",
              "      <td>IMAGE</td>\n",
              "      <td>2020-07-04 13:06:16+00:00</td>\n",
              "      <td>0.0</td>\n",
              "      <td>0.0</td>\n",
              "      <td>0.0</td>\n",
              "      <td>0.0</td>\n",
              "      <td>0.0</td>\n",
              "      <td>0.0</td>\n",
              "    </tr>\n",
              "    <tr>\n",
              "      <th>5</th>\n",
              "      <td>5627</td>\n",
              "      <td>d8796b1c018e1069ac51c1cb7e58a4855fc35c57</td>\n",
              "      <td>98DC625B :参戦ID\\n参加者募集！\\nLv200 ワムデュス\\nhttps://t...</td>\n",
              "      <td>14.71</td>\n",
              "      <td>57.0</td>\n",
              "      <td>0.0</td>\n",
              "      <td>0.0</td>\n",
              "      <td>13878.0</td>\n",
              "      <td>1.0</td>\n",
              "      <td>0</td>\n",
              "      <td>IMAGE</td>\n",
              "      <td>2021-01-28 06:36:47+00:00</td>\n",
              "      <td>0.0</td>\n",
              "      <td>0.0</td>\n",
              "      <td>0.0</td>\n",
              "      <td>0.0</td>\n",
              "      <td>0.0</td>\n",
              "      <td>0.0</td>\n",
              "    </tr>\n",
              "    <tr>\n",
              "      <th>6</th>\n",
              "      <td>12079</td>\n",
              "      <td>b62242cf44834b6a917df58c84d8a49f68fd7c40</td>\n",
              "      <td>सचिन वझेंना झालेली अटक बेकायदेशीर ! \\n#NIA ने ...</td>\n",
              "      <td>-13.73</td>\n",
              "      <td>280.0</td>\n",
              "      <td>1.0</td>\n",
              "      <td>1.0</td>\n",
              "      <td>94130.0</td>\n",
              "      <td>5191.0</td>\n",
              "      <td>23</td>\n",
              "      <td>TEXT</td>\n",
              "      <td>2021-03-14 13:37:00+00:00</td>\n",
              "      <td>0.0</td>\n",
              "      <td>0.0</td>\n",
              "      <td>135.0</td>\n",
              "      <td>40.0</td>\n",
              "      <td>4.0</td>\n",
              "      <td>1790.0</td>\n",
              "    </tr>\n",
              "    <tr>\n",
              "      <th>7</th>\n",
              "      <td>25232</td>\n",
              "      <td>907a35b92f04d6b70eb037086b2b5938bb2545aa</td>\n",
              "      <td>Denali's Lip Sync for Your Life on last night'...</td>\n",
              "      <td>17.16</td>\n",
              "      <td>171.0</td>\n",
              "      <td>0.0</td>\n",
              "      <td>1.0</td>\n",
              "      <td>203926.0</td>\n",
              "      <td>507272.0</td>\n",
              "      <td>7365</td>\n",
              "      <td>TEXT</td>\n",
              "      <td>2021-01-23 21:47:21+00:00</td>\n",
              "      <td>0.0</td>\n",
              "      <td>1.0</td>\n",
              "      <td>1753.0</td>\n",
              "      <td>205.0</td>\n",
              "      <td>0.0</td>\n",
              "      <td>19580.0</td>\n",
              "    </tr>\n",
              "    <tr>\n",
              "      <th>8</th>\n",
              "      <td>11775</td>\n",
              "      <td>3ea3634cea48131c8289cce7812fbe2311da3e69</td>\n",
              "      <td>【 #西野七瀬の毎日ニット 】\\n七瀬が毎日気分のアガるデザインと旬なスタイリングでくるくる...</td>\n",
              "      <td>16.95</td>\n",
              "      <td>143.0</td>\n",
              "      <td>1.0</td>\n",
              "      <td>1.0</td>\n",
              "      <td>54960.0</td>\n",
              "      <td>235166.0</td>\n",
              "      <td>1055</td>\n",
              "      <td>IMAGE</td>\n",
              "      <td>2020-11-10 10:15:02+00:00</td>\n",
              "      <td>0.0</td>\n",
              "      <td>1.0</td>\n",
              "      <td>3.0</td>\n",
              "      <td>0.0</td>\n",
              "      <td>0.0</td>\n",
              "      <td>30.0</td>\n",
              "    </tr>\n",
              "    <tr>\n",
              "      <th>9</th>\n",
              "      <td>39910</td>\n",
              "      <td>12951bc6bd108886e931c90ae5f855daf794940c</td>\n",
              "      <td>@TwitchES  cáiganle a cotorrear un rato le vam...</td>\n",
              "      <td>0.00</td>\n",
              "      <td>191.0</td>\n",
              "      <td>2.0</td>\n",
              "      <td>1.0</td>\n",
              "      <td>19.0</td>\n",
              "      <td>9.0</td>\n",
              "      <td>0</td>\n",
              "      <td>TEXT</td>\n",
              "      <td>2020-05-15 21:09:16+00:00</td>\n",
              "      <td>1.0</td>\n",
              "      <td>0.0</td>\n",
              "      <td>0.0</td>\n",
              "      <td>0.0</td>\n",
              "      <td>0.0</td>\n",
              "      <td>0.0</td>\n",
              "    </tr>\n",
              "  </tbody>\n",
              "</table>\n",
              "</div>"
            ],
            "text/plain": [
              "   Unnamed: 0                                        Id  ... Comments   Impact\n",
              "0       41370  6d967b125fcecba6357dbc43f8f380cf2d6d7a51  ...      0.0      0.0\n",
              "1       27955  22dc5f808a8589186767412f39e5c88ae9753d04  ...      0.0    110.0\n",
              "2       38151  7f224e66ad757e3066d45947881bcaab91f8e57f  ...      0.0      0.0\n",
              "3       13558  5acc220e7a337efafc4c847b7f74680ca2515890  ...      4.0   6830.0\n",
              "4       17071  863abf834897a06afdc459788b34abeae6298f3a  ...      0.0      0.0\n",
              "5        5627  d8796b1c018e1069ac51c1cb7e58a4855fc35c57  ...      0.0      0.0\n",
              "6       12079  b62242cf44834b6a917df58c84d8a49f68fd7c40  ...      4.0   1790.0\n",
              "7       25232  907a35b92f04d6b70eb037086b2b5938bb2545aa  ...      0.0  19580.0\n",
              "8       11775  3ea3634cea48131c8289cce7812fbe2311da3e69  ...      0.0     30.0\n",
              "9       39910  12951bc6bd108886e931c90ae5f855daf794940c  ...      0.0      0.0\n",
              "\n",
              "[10 rows x 18 columns]"
            ]
          },
          "metadata": {
            "tags": []
          },
          "execution_count": 5
        }
      ]
    },
    {
      "cell_type": "code",
      "metadata": {
        "colab": {
          "base_uri": "https://localhost:8080/"
        },
        "id": "LF_1ErkvkIVm",
        "outputId": "5dceb06f-370b-4fd1-eca1-defa4232755c"
      },
      "source": [
        "data1.columns"
      ],
      "execution_count": 6,
      "outputs": [
        {
          "output_type": "execute_result",
          "data": {
            "text/plain": [
              "Index(['Unnamed: 0', 'Id', 'Post Contet', 'Sentiment score', 'Post Length',\n",
              "       'Hashtag count', 'Content URL count', 'Tweet count', 'Followers count',\n",
              "       'Listed Count', 'Media Type', 'Published DateTime', 'Mentions Count',\n",
              "       'Post author verified', 'Likes', 'Shares', 'Comments', 'Impact'],\n",
              "      dtype='object')"
            ]
          },
          "metadata": {
            "tags": []
          },
          "execution_count": 6
        }
      ]
    },
    {
      "cell_type": "code",
      "metadata": {
        "id": "sHoyRF84kIVn"
      },
      "source": [
        "from sklearn.preprocessing import LabelEncoder\n",
        "labelencoder = LabelEncoder()\n",
        "data1['Media Type'] = labelencoder.fit_transform(data1['Media Type'])\n"
      ],
      "execution_count": 7,
      "outputs": []
    },
    {
      "cell_type": "code",
      "metadata": {
        "colab": {
          "base_uri": "https://localhost:8080/",
          "height": 458
        },
        "id": "4Bj7NanlmIkg",
        "outputId": "34f318e6-2f54-486a-ac25-8cbbec7cd8e2"
      },
      "source": [
        "data1.head(5)"
      ],
      "execution_count": 9,
      "outputs": [
        {
          "output_type": "execute_result",
          "data": {
            "text/html": [
              "<div>\n",
              "<style scoped>\n",
              "    .dataframe tbody tr th:only-of-type {\n",
              "        vertical-align: middle;\n",
              "    }\n",
              "\n",
              "    .dataframe tbody tr th {\n",
              "        vertical-align: top;\n",
              "    }\n",
              "\n",
              "    .dataframe thead th {\n",
              "        text-align: right;\n",
              "    }\n",
              "</style>\n",
              "<table border=\"1\" class=\"dataframe\">\n",
              "  <thead>\n",
              "    <tr style=\"text-align: right;\">\n",
              "      <th></th>\n",
              "      <th>Unnamed: 0</th>\n",
              "      <th>Id</th>\n",
              "      <th>Post Contet</th>\n",
              "      <th>Sentiment score</th>\n",
              "      <th>Post Length</th>\n",
              "      <th>Hashtag count</th>\n",
              "      <th>Content URL count</th>\n",
              "      <th>Tweet count</th>\n",
              "      <th>Followers count</th>\n",
              "      <th>Listed Count</th>\n",
              "      <th>Media Type</th>\n",
              "      <th>Published DateTime</th>\n",
              "      <th>Mentions Count</th>\n",
              "      <th>Post author verified</th>\n",
              "      <th>Likes</th>\n",
              "      <th>Shares</th>\n",
              "      <th>Comments</th>\n",
              "      <th>Impact</th>\n",
              "    </tr>\n",
              "  </thead>\n",
              "  <tbody>\n",
              "    <tr>\n",
              "      <th>0</th>\n",
              "      <td>41370</td>\n",
              "      <td>6d967b125fcecba6357dbc43f8f380cf2d6d7a51</td>\n",
              "      <td>Sana all na lang.</td>\n",
              "      <td>0.0</td>\n",
              "      <td>17.0</td>\n",
              "      <td>0.0</td>\n",
              "      <td>0.0</td>\n",
              "      <td>1660.0</td>\n",
              "      <td>133.0</td>\n",
              "      <td>0</td>\n",
              "      <td>1</td>\n",
              "      <td>2021-01-28 12:17:24+00:00</td>\n",
              "      <td>0.0</td>\n",
              "      <td>0.0</td>\n",
              "      <td>0.0</td>\n",
              "      <td>0.0</td>\n",
              "      <td>0.0</td>\n",
              "      <td>0.0</td>\n",
              "    </tr>\n",
              "    <tr>\n",
              "      <th>1</th>\n",
              "      <td>27955</td>\n",
              "      <td>22dc5f808a8589186767412f39e5c88ae9753d04</td>\n",
              "      <td>キスマイ玉森裕太「ボス恋」台本の裏話明かす\\n\\n@TBS_asachan @bosskoi...</td>\n",
              "      <td>19.3</td>\n",
              "      <td>84.0</td>\n",
              "      <td>0.0</td>\n",
              "      <td>1.0</td>\n",
              "      <td>318924.0</td>\n",
              "      <td>1428273.0</td>\n",
              "      <td>5454</td>\n",
              "      <td>1</td>\n",
              "      <td>2021-02-24 06:51:02+00:00</td>\n",
              "      <td>0.0</td>\n",
              "      <td>1.0</td>\n",
              "      <td>10.0</td>\n",
              "      <td>1.0</td>\n",
              "      <td>0.0</td>\n",
              "      <td>110.0</td>\n",
              "    </tr>\n",
              "    <tr>\n",
              "      <th>2</th>\n",
              "      <td>38151</td>\n",
              "      <td>7f224e66ad757e3066d45947881bcaab91f8e57f</td>\n",
              "      <td>SuperM’s album isn’t even out yet and there’s ...</td>\n",
              "      <td>0.0</td>\n",
              "      <td>78.0</td>\n",
              "      <td>0.0</td>\n",
              "      <td>0.0</td>\n",
              "      <td>39976.0</td>\n",
              "      <td>1560.0</td>\n",
              "      <td>0</td>\n",
              "      <td>1</td>\n",
              "      <td>2020-09-15 01:16:32+00:00</td>\n",
              "      <td>0.0</td>\n",
              "      <td>0.0</td>\n",
              "      <td>0.0</td>\n",
              "      <td>0.0</td>\n",
              "      <td>0.0</td>\n",
              "      <td>0.0</td>\n",
              "    </tr>\n",
              "    <tr>\n",
              "      <th>3</th>\n",
              "      <td>13558</td>\n",
              "      <td>5acc220e7a337efafc4c847b7f74680ca2515890</td>\n",
              "      <td>மத்திய அரசின் நலத்திட்டங்களை மக்களுக்கு சென்று...</td>\n",
              "      <td>0.0</td>\n",
              "      <td>284.0</td>\n",
              "      <td>2.0</td>\n",
              "      <td>0.0</td>\n",
              "      <td>8045.0</td>\n",
              "      <td>27191.0</td>\n",
              "      <td>26</td>\n",
              "      <td>1</td>\n",
              "      <td>2021-02-14 03:53:53+00:00</td>\n",
              "      <td>0.0</td>\n",
              "      <td>1.0</td>\n",
              "      <td>460.0</td>\n",
              "      <td>219.0</td>\n",
              "      <td>4.0</td>\n",
              "      <td>6830.0</td>\n",
              "    </tr>\n",
              "    <tr>\n",
              "      <th>4</th>\n",
              "      <td>17071</td>\n",
              "      <td>863abf834897a06afdc459788b34abeae6298f3a</td>\n",
              "      <td>【熊本県人吉市】球磨川氾濫後のくま川鉄道の線路被害状況 hamusoku.com/archi...</td>\n",
              "      <td>-20.0</td>\n",
              "      <td>80.0</td>\n",
              "      <td>0.0</td>\n",
              "      <td>1.0</td>\n",
              "      <td>210996.0</td>\n",
              "      <td>2385.0</td>\n",
              "      <td>0</td>\n",
              "      <td>0</td>\n",
              "      <td>2020-07-04 13:06:16+00:00</td>\n",
              "      <td>0.0</td>\n",
              "      <td>0.0</td>\n",
              "      <td>0.0</td>\n",
              "      <td>0.0</td>\n",
              "      <td>0.0</td>\n",
              "      <td>0.0</td>\n",
              "    </tr>\n",
              "  </tbody>\n",
              "</table>\n",
              "</div>"
            ],
            "text/plain": [
              "   Unnamed: 0                                        Id  ... Comments  Impact\n",
              "0       41370  6d967b125fcecba6357dbc43f8f380cf2d6d7a51  ...      0.0     0.0\n",
              "1       27955  22dc5f808a8589186767412f39e5c88ae9753d04  ...      0.0   110.0\n",
              "2       38151  7f224e66ad757e3066d45947881bcaab91f8e57f  ...      0.0     0.0\n",
              "3       13558  5acc220e7a337efafc4c847b7f74680ca2515890  ...      4.0  6830.0\n",
              "4       17071  863abf834897a06afdc459788b34abeae6298f3a  ...      0.0     0.0\n",
              "\n",
              "[5 rows x 18 columns]"
            ]
          },
          "metadata": {
            "tags": []
          },
          "execution_count": 9
        }
      ]
    },
    {
      "cell_type": "code",
      "metadata": {
        "id": "OL9p7X3pkIVn"
      },
      "source": [
        "data1.drop(columns=['Id','Post Contet','Published DateTime'],axis=1,inplace=True)"
      ],
      "execution_count": 10,
      "outputs": []
    },
    {
      "cell_type": "code",
      "metadata": {
        "colab": {
          "base_uri": "https://localhost:8080/",
          "height": 164
        },
        "id": "MZF3KN1PmRW8",
        "outputId": "75abafe7-f7d8-4ea1-d313-0135cd5d392b"
      },
      "source": [
        "data1.head(2)"
      ],
      "execution_count": 11,
      "outputs": [
        {
          "output_type": "execute_result",
          "data": {
            "text/html": [
              "<div>\n",
              "<style scoped>\n",
              "    .dataframe tbody tr th:only-of-type {\n",
              "        vertical-align: middle;\n",
              "    }\n",
              "\n",
              "    .dataframe tbody tr th {\n",
              "        vertical-align: top;\n",
              "    }\n",
              "\n",
              "    .dataframe thead th {\n",
              "        text-align: right;\n",
              "    }\n",
              "</style>\n",
              "<table border=\"1\" class=\"dataframe\">\n",
              "  <thead>\n",
              "    <tr style=\"text-align: right;\">\n",
              "      <th></th>\n",
              "      <th>Unnamed: 0</th>\n",
              "      <th>Sentiment score</th>\n",
              "      <th>Post Length</th>\n",
              "      <th>Hashtag count</th>\n",
              "      <th>Content URL count</th>\n",
              "      <th>Tweet count</th>\n",
              "      <th>Followers count</th>\n",
              "      <th>Listed Count</th>\n",
              "      <th>Media Type</th>\n",
              "      <th>Mentions Count</th>\n",
              "      <th>Post author verified</th>\n",
              "      <th>Likes</th>\n",
              "      <th>Shares</th>\n",
              "      <th>Comments</th>\n",
              "      <th>Impact</th>\n",
              "    </tr>\n",
              "  </thead>\n",
              "  <tbody>\n",
              "    <tr>\n",
              "      <th>0</th>\n",
              "      <td>41370</td>\n",
              "      <td>0.0</td>\n",
              "      <td>17.0</td>\n",
              "      <td>0.0</td>\n",
              "      <td>0.0</td>\n",
              "      <td>1660.0</td>\n",
              "      <td>133.0</td>\n",
              "      <td>0</td>\n",
              "      <td>1</td>\n",
              "      <td>0.0</td>\n",
              "      <td>0.0</td>\n",
              "      <td>0.0</td>\n",
              "      <td>0.0</td>\n",
              "      <td>0.0</td>\n",
              "      <td>0.0</td>\n",
              "    </tr>\n",
              "    <tr>\n",
              "      <th>1</th>\n",
              "      <td>27955</td>\n",
              "      <td>19.3</td>\n",
              "      <td>84.0</td>\n",
              "      <td>0.0</td>\n",
              "      <td>1.0</td>\n",
              "      <td>318924.0</td>\n",
              "      <td>1428273.0</td>\n",
              "      <td>5454</td>\n",
              "      <td>1</td>\n",
              "      <td>0.0</td>\n",
              "      <td>1.0</td>\n",
              "      <td>10.0</td>\n",
              "      <td>1.0</td>\n",
              "      <td>0.0</td>\n",
              "      <td>110.0</td>\n",
              "    </tr>\n",
              "  </tbody>\n",
              "</table>\n",
              "</div>"
            ],
            "text/plain": [
              "   Unnamed: 0  Sentiment score  Post Length  ...  Shares  Comments  Impact\n",
              "0       41370              0.0         17.0  ...     0.0       0.0     0.0\n",
              "1       27955             19.3         84.0  ...     1.0       0.0   110.0\n",
              "\n",
              "[2 rows x 15 columns]"
            ]
          },
          "metadata": {
            "tags": []
          },
          "execution_count": 11
        }
      ]
    },
    {
      "cell_type": "code",
      "metadata": {
        "id": "cPsOxjZSkIVn"
      },
      "source": [
        "target='Impact'"
      ],
      "execution_count": 12,
      "outputs": []
    },
    {
      "cell_type": "code",
      "metadata": {
        "id": "IEQfQ7yPkIVo"
      },
      "source": [
        "scaler = MinMaxScaler(feature_range=(0, 1))\n",
        "# scaled_train = scaler.fit_transform(data1)\n",
        "# scaled_train_df = pd.DataFrame(scaled_train, columns=data1.columns.values)"
      ],
      "execution_count": 15,
      "outputs": []
    },
    {
      "cell_type": "code",
      "metadata": {
        "id": "RD8fUUzdk5gt"
      },
      "source": [
        "scaled_train_df=data1.copy()"
      ],
      "execution_count": 20,
      "outputs": []
    },
    {
      "cell_type": "code",
      "metadata": {
        "colab": {
          "base_uri": "https://localhost:8080/",
          "height": 164
        },
        "id": "zODpgSeBnpCA",
        "outputId": "a6b858f5-f478-4772-84b9-eb2c45ccccfa"
      },
      "source": [
        "scaled_train_df.head(2)"
      ],
      "execution_count": 21,
      "outputs": [
        {
          "output_type": "execute_result",
          "data": {
            "text/html": [
              "<div>\n",
              "<style scoped>\n",
              "    .dataframe tbody tr th:only-of-type {\n",
              "        vertical-align: middle;\n",
              "    }\n",
              "\n",
              "    .dataframe tbody tr th {\n",
              "        vertical-align: top;\n",
              "    }\n",
              "\n",
              "    .dataframe thead th {\n",
              "        text-align: right;\n",
              "    }\n",
              "</style>\n",
              "<table border=\"1\" class=\"dataframe\">\n",
              "  <thead>\n",
              "    <tr style=\"text-align: right;\">\n",
              "      <th></th>\n",
              "      <th>Unnamed: 0</th>\n",
              "      <th>Sentiment score</th>\n",
              "      <th>Post Length</th>\n",
              "      <th>Hashtag count</th>\n",
              "      <th>Content URL count</th>\n",
              "      <th>Tweet count</th>\n",
              "      <th>Followers count</th>\n",
              "      <th>Listed Count</th>\n",
              "      <th>Media Type</th>\n",
              "      <th>Mentions Count</th>\n",
              "      <th>Post author verified</th>\n",
              "      <th>Likes</th>\n",
              "      <th>Shares</th>\n",
              "      <th>Comments</th>\n",
              "      <th>Impact</th>\n",
              "    </tr>\n",
              "  </thead>\n",
              "  <tbody>\n",
              "    <tr>\n",
              "      <th>0</th>\n",
              "      <td>41370</td>\n",
              "      <td>0.0</td>\n",
              "      <td>17.0</td>\n",
              "      <td>0.0</td>\n",
              "      <td>0.0</td>\n",
              "      <td>1660.0</td>\n",
              "      <td>133.0</td>\n",
              "      <td>0</td>\n",
              "      <td>1</td>\n",
              "      <td>0.0</td>\n",
              "      <td>0.0</td>\n",
              "      <td>0.0</td>\n",
              "      <td>0.0</td>\n",
              "      <td>0.0</td>\n",
              "      <td>0.0</td>\n",
              "    </tr>\n",
              "    <tr>\n",
              "      <th>1</th>\n",
              "      <td>27955</td>\n",
              "      <td>19.3</td>\n",
              "      <td>84.0</td>\n",
              "      <td>0.0</td>\n",
              "      <td>1.0</td>\n",
              "      <td>318924.0</td>\n",
              "      <td>1428273.0</td>\n",
              "      <td>5454</td>\n",
              "      <td>1</td>\n",
              "      <td>0.0</td>\n",
              "      <td>1.0</td>\n",
              "      <td>10.0</td>\n",
              "      <td>1.0</td>\n",
              "      <td>0.0</td>\n",
              "      <td>110.0</td>\n",
              "    </tr>\n",
              "  </tbody>\n",
              "</table>\n",
              "</div>"
            ],
            "text/plain": [
              "   Unnamed: 0  Sentiment score  Post Length  ...  Shares  Comments  Impact\n",
              "0       41370              0.0         17.0  ...     0.0       0.0     0.0\n",
              "1       27955             19.3         84.0  ...     1.0       0.0   110.0\n",
              "\n",
              "[2 rows x 15 columns]"
            ]
          },
          "metadata": {
            "tags": []
          },
          "execution_count": 21
        }
      ]
    },
    {
      "cell_type": "code",
      "metadata": {
        "id": "rIvk_69nns5i"
      },
      "source": [
        "scaled_train_df[scaled_train_df.columns] = scaler.fit_transform(scaled_train_df[scaled_train_df.columns])"
      ],
      "execution_count": 22,
      "outputs": []
    },
    {
      "cell_type": "code",
      "metadata": {
        "colab": {
          "base_uri": "https://localhost:8080/",
          "height": 638
        },
        "id": "CuPjLuzaoCHv",
        "outputId": "c544e650-7662-4343-9314-b1a2402bec0f"
      },
      "source": [
        "scaled_train_df"
      ],
      "execution_count": 23,
      "outputs": [
        {
          "output_type": "execute_result",
          "data": {
            "text/html": [
              "<div>\n",
              "<style scoped>\n",
              "    .dataframe tbody tr th:only-of-type {\n",
              "        vertical-align: middle;\n",
              "    }\n",
              "\n",
              "    .dataframe tbody tr th {\n",
              "        vertical-align: top;\n",
              "    }\n",
              "\n",
              "    .dataframe thead th {\n",
              "        text-align: right;\n",
              "    }\n",
              "</style>\n",
              "<table border=\"1\" class=\"dataframe\">\n",
              "  <thead>\n",
              "    <tr style=\"text-align: right;\">\n",
              "      <th></th>\n",
              "      <th>Unnamed: 0</th>\n",
              "      <th>Sentiment score</th>\n",
              "      <th>Post Length</th>\n",
              "      <th>Hashtag count</th>\n",
              "      <th>Content URL count</th>\n",
              "      <th>Tweet count</th>\n",
              "      <th>Followers count</th>\n",
              "      <th>Listed Count</th>\n",
              "      <th>Media Type</th>\n",
              "      <th>Mentions Count</th>\n",
              "      <th>Post author verified</th>\n",
              "      <th>Likes</th>\n",
              "      <th>Shares</th>\n",
              "      <th>Comments</th>\n",
              "      <th>Impact</th>\n",
              "    </tr>\n",
              "  </thead>\n",
              "  <tbody>\n",
              "    <tr>\n",
              "      <th>0</th>\n",
              "      <td>0.942820</td>\n",
              "      <td>0.5000</td>\n",
              "      <td>0.043011</td>\n",
              "      <td>0.000000</td>\n",
              "      <td>0.000000</td>\n",
              "      <td>0.000033</td>\n",
              "      <td>1.162175e-06</td>\n",
              "      <td>0.000000</td>\n",
              "      <td>0.5</td>\n",
              "      <td>0.0</td>\n",
              "      <td>0.0</td>\n",
              "      <td>0.000000</td>\n",
              "      <td>0.000000</td>\n",
              "      <td>0.00000</td>\n",
              "      <td>0.000000</td>\n",
              "    </tr>\n",
              "    <tr>\n",
              "      <th>1</th>\n",
              "      <td>0.637093</td>\n",
              "      <td>0.9825</td>\n",
              "      <td>0.223118</td>\n",
              "      <td>0.000000</td>\n",
              "      <td>0.142857</td>\n",
              "      <td>0.006322</td>\n",
              "      <td>1.248048e-02</td>\n",
              "      <td>0.009600</td>\n",
              "      <td>0.5</td>\n",
              "      <td>0.0</td>\n",
              "      <td>1.0</td>\n",
              "      <td>0.000110</td>\n",
              "      <td>0.000013</td>\n",
              "      <td>0.00000</td>\n",
              "      <td>0.000110</td>\n",
              "    </tr>\n",
              "    <tr>\n",
              "      <th>2</th>\n",
              "      <td>0.869459</td>\n",
              "      <td>0.5000</td>\n",
              "      <td>0.206989</td>\n",
              "      <td>0.000000</td>\n",
              "      <td>0.000000</td>\n",
              "      <td>0.000792</td>\n",
              "      <td>1.363153e-05</td>\n",
              "      <td>0.000000</td>\n",
              "      <td>0.5</td>\n",
              "      <td>0.0</td>\n",
              "      <td>0.0</td>\n",
              "      <td>0.000000</td>\n",
              "      <td>0.000000</td>\n",
              "      <td>0.00000</td>\n",
              "      <td>0.000000</td>\n",
              "    </tr>\n",
              "    <tr>\n",
              "      <th>3</th>\n",
              "      <td>0.308986</td>\n",
              "      <td>0.5000</td>\n",
              "      <td>0.760753</td>\n",
              "      <td>0.095238</td>\n",
              "      <td>0.000000</td>\n",
              "      <td>0.000159</td>\n",
              "      <td>2.375993e-04</td>\n",
              "      <td>0.000046</td>\n",
              "      <td>0.5</td>\n",
              "      <td>0.0</td>\n",
              "      <td>1.0</td>\n",
              "      <td>0.005059</td>\n",
              "      <td>0.002749</td>\n",
              "      <td>0.00006</td>\n",
              "      <td>0.006844</td>\n",
              "    </tr>\n",
              "    <tr>\n",
              "      <th>4</th>\n",
              "      <td>0.389047</td>\n",
              "      <td>0.0000</td>\n",
              "      <td>0.212366</td>\n",
              "      <td>0.000000</td>\n",
              "      <td>0.142857</td>\n",
              "      <td>0.004183</td>\n",
              "      <td>2.084051e-05</td>\n",
              "      <td>0.000000</td>\n",
              "      <td>0.0</td>\n",
              "      <td>0.0</td>\n",
              "      <td>0.0</td>\n",
              "      <td>0.000000</td>\n",
              "      <td>0.000000</td>\n",
              "      <td>0.00000</td>\n",
              "      <td>0.000000</td>\n",
              "    </tr>\n",
              "    <tr>\n",
              "      <th>...</th>\n",
              "      <td>...</td>\n",
              "      <td>...</td>\n",
              "      <td>...</td>\n",
              "      <td>...</td>\n",
              "      <td>...</td>\n",
              "      <td>...</td>\n",
              "      <td>...</td>\n",
              "      <td>...</td>\n",
              "      <td>...</td>\n",
              "      <td>...</td>\n",
              "      <td>...</td>\n",
              "      <td>...</td>\n",
              "      <td>...</td>\n",
              "      <td>...</td>\n",
              "      <td>...</td>\n",
              "    </tr>\n",
              "    <tr>\n",
              "      <th>49995</th>\n",
              "      <td>0.377082</td>\n",
              "      <td>0.5000</td>\n",
              "      <td>0.284946</td>\n",
              "      <td>0.000000</td>\n",
              "      <td>0.142857</td>\n",
              "      <td>0.001162</td>\n",
              "      <td>5.362522e-04</td>\n",
              "      <td>0.000000</td>\n",
              "      <td>0.5</td>\n",
              "      <td>0.0</td>\n",
              "      <td>0.0</td>\n",
              "      <td>0.000000</td>\n",
              "      <td>0.000000</td>\n",
              "      <td>0.00000</td>\n",
              "      <td>0.000000</td>\n",
              "    </tr>\n",
              "    <tr>\n",
              "      <th>49996</th>\n",
              "      <td>0.297637</td>\n",
              "      <td>0.5000</td>\n",
              "      <td>0.327957</td>\n",
              "      <td>0.000000</td>\n",
              "      <td>0.142857</td>\n",
              "      <td>0.001387</td>\n",
              "      <td>3.252955e-04</td>\n",
              "      <td>0.000000</td>\n",
              "      <td>0.5</td>\n",
              "      <td>0.0</td>\n",
              "      <td>0.0</td>\n",
              "      <td>0.000000</td>\n",
              "      <td>0.000000</td>\n",
              "      <td>0.00000</td>\n",
              "      <td>0.000000</td>\n",
              "    </tr>\n",
              "    <tr>\n",
              "      <th>49997</th>\n",
              "      <td>0.884660</td>\n",
              "      <td>0.5000</td>\n",
              "      <td>0.604839</td>\n",
              "      <td>0.000000</td>\n",
              "      <td>0.142857</td>\n",
              "      <td>0.000031</td>\n",
              "      <td>3.495264e-07</td>\n",
              "      <td>0.000000</td>\n",
              "      <td>0.5</td>\n",
              "      <td>0.0</td>\n",
              "      <td>0.0</td>\n",
              "      <td>0.000000</td>\n",
              "      <td>0.000000</td>\n",
              "      <td>0.00000</td>\n",
              "      <td>0.000000</td>\n",
              "    </tr>\n",
              "    <tr>\n",
              "      <th>49998</th>\n",
              "      <td>0.103580</td>\n",
              "      <td>0.2455</td>\n",
              "      <td>0.811828</td>\n",
              "      <td>0.095238</td>\n",
              "      <td>0.000000</td>\n",
              "      <td>0.011762</td>\n",
              "      <td>3.940465e-03</td>\n",
              "      <td>0.002475</td>\n",
              "      <td>0.0</td>\n",
              "      <td>0.0</td>\n",
              "      <td>1.0</td>\n",
              "      <td>0.000033</td>\n",
              "      <td>0.000000</td>\n",
              "      <td>0.00000</td>\n",
              "      <td>0.000030</td>\n",
              "    </tr>\n",
              "    <tr>\n",
              "      <th>49999</th>\n",
              "      <td>0.343558</td>\n",
              "      <td>0.5000</td>\n",
              "      <td>0.669355</td>\n",
              "      <td>0.333333</td>\n",
              "      <td>0.142857</td>\n",
              "      <td>0.000119</td>\n",
              "      <td>3.831684e-05</td>\n",
              "      <td>0.000000</td>\n",
              "      <td>0.0</td>\n",
              "      <td>0.0</td>\n",
              "      <td>0.0</td>\n",
              "      <td>0.000000</td>\n",
              "      <td>0.000000</td>\n",
              "      <td>0.00000</td>\n",
              "      <td>0.000000</td>\n",
              "    </tr>\n",
              "  </tbody>\n",
              "</table>\n",
              "<p>50000 rows × 15 columns</p>\n",
              "</div>"
            ],
            "text/plain": [
              "       Unnamed: 0  Sentiment score  Post Length  ...    Shares  Comments    Impact\n",
              "0        0.942820           0.5000     0.043011  ...  0.000000   0.00000  0.000000\n",
              "1        0.637093           0.9825     0.223118  ...  0.000013   0.00000  0.000110\n",
              "2        0.869459           0.5000     0.206989  ...  0.000000   0.00000  0.000000\n",
              "3        0.308986           0.5000     0.760753  ...  0.002749   0.00006  0.006844\n",
              "4        0.389047           0.0000     0.212366  ...  0.000000   0.00000  0.000000\n",
              "...           ...              ...          ...  ...       ...       ...       ...\n",
              "49995    0.377082           0.5000     0.284946  ...  0.000000   0.00000  0.000000\n",
              "49996    0.297637           0.5000     0.327957  ...  0.000000   0.00000  0.000000\n",
              "49997    0.884660           0.5000     0.604839  ...  0.000000   0.00000  0.000000\n",
              "49998    0.103580           0.2455     0.811828  ...  0.000000   0.00000  0.000030\n",
              "49999    0.343558           0.5000     0.669355  ...  0.000000   0.00000  0.000000\n",
              "\n",
              "[50000 rows x 15 columns]"
            ]
          },
          "metadata": {
            "tags": []
          },
          "execution_count": 23
        }
      ]
    },
    {
      "cell_type": "code",
      "metadata": {
        "id": "1xgPxYNBkIVo"
      },
      "source": [
        "X = scaled_train_df.drop(target, axis=1).values\n",
        "Y = scaled_train_df[[target]].values"
      ],
      "execution_count": 24,
      "outputs": []
    },
    {
      "cell_type": "code",
      "metadata": {
        "id": "8uysamVF4pev"
      },
      "source": [
        "x_train,x_test,y_train,y_test=train_test_split(X,Y,test_size=0.2,random_state=0)"
      ],
      "execution_count": 95,
      "outputs": []
    },
    {
      "cell_type": "code",
      "metadata": {
        "id": "OT46zu757ImS"
      },
      "source": [
        "ANNn Model"
      ],
      "execution_count": null,
      "outputs": []
    },
    {
      "cell_type": "code",
      "metadata": {
        "id": "VfOArUJr8c9_"
      },
      "source": [
        "import keras \n",
        "from keras.models import Sequential\n",
        "from keras.layers import Dense\n",
        "from keras.layers import Dropout"
      ],
      "execution_count": 100,
      "outputs": []
    },
    {
      "cell_type": "code",
      "metadata": {
        "id": "MAbCr20w8Pcn"
      },
      "source": [
        "# Initialize the ANN\n",
        "classifier = Sequential()\n",
        "\n",
        "# Build the input and hidden layers with dropout\n",
        "classifier.add(Dense(units = 32, activation = 'relu', kernel_initializer = 'uniform', input_dim = 14))\n",
        "classifier.add(Dropout(rate = 0.1))\n",
        "\n",
        "# Adding the second hidden layer\n",
        "classifier.add(Dense(units = 32, activation = 'relu', kernel_initializer = 'uniform'))\n",
        "classifier.add(Dropout(rate = 0.1))\n",
        "\n",
        "# Adding an output layer\n",
        "classifier.add(Dense(units = 1, kernel_initializer = 'uniform', activation = 'sigmoid'))"
      ],
      "execution_count": 105,
      "outputs": []
    },
    {
      "cell_type": "code",
      "metadata": {
        "id": "EBlvRYm68Sgv"
      },
      "source": [
        "# Compiling the ANN\n",
        "classifier.compile(optimizer = 'adam', loss = 'binary_crossentropy', metrics = ['accuracy'])\n"
      ],
      "execution_count": 106,
      "outputs": []
    },
    {
      "cell_type": "code",
      "metadata": {
        "colab": {
          "base_uri": "https://localhost:8080/"
        },
        "id": "N7bHTyT38Vr3",
        "outputId": "b2403d8e-1cdc-4111-e438-9fd43569edef"
      },
      "source": [
        "# Fitting ANN to training set\n",
        "classifier.fit(x_train, y_train, batch_size = 5, epochs = 15)"
      ],
      "execution_count": 107,
      "outputs": [
        {
          "output_type": "stream",
          "text": [
            "Epoch 1/15\n",
            "8000/8000 [==============================] - 16s 2ms/step - loss: 0.1496 - accuracy: 0.2011\n",
            "Epoch 2/15\n",
            "8000/8000 [==============================] - 16s 2ms/step - loss: 0.1017 - accuracy: 0.1980\n",
            "Epoch 3/15\n",
            "8000/8000 [==============================] - 15s 2ms/step - loss: 0.1023 - accuracy: 0.2018\n",
            "Epoch 4/15\n",
            "8000/8000 [==============================] - 15s 2ms/step - loss: 0.1011 - accuracy: 0.2002\n",
            "Epoch 5/15\n",
            "8000/8000 [==============================] - 15s 2ms/step - loss: 0.1015 - accuracy: 0.1981\n",
            "Epoch 6/15\n",
            "8000/8000 [==============================] - 15s 2ms/step - loss: 0.0996 - accuracy: 0.2031\n",
            "Epoch 7/15\n",
            "8000/8000 [==============================] - 16s 2ms/step - loss: 0.1008 - accuracy: 0.2023\n",
            "Epoch 8/15\n",
            "8000/8000 [==============================] - 15s 2ms/step - loss: 0.1013 - accuracy: 0.1987\n",
            "Epoch 9/15\n",
            "8000/8000 [==============================] - 15s 2ms/step - loss: 0.1027 - accuracy: 0.2020\n",
            "Epoch 10/15\n",
            "8000/8000 [==============================] - 15s 2ms/step - loss: 0.1005 - accuracy: 0.2013\n",
            "Epoch 11/15\n",
            "8000/8000 [==============================] - 15s 2ms/step - loss: 0.1008 - accuracy: 0.2026\n",
            "Epoch 12/15\n",
            "8000/8000 [==============================] - 15s 2ms/step - loss: 0.1012 - accuracy: 0.2006\n",
            "Epoch 13/15\n",
            "8000/8000 [==============================] - 16s 2ms/step - loss: 0.1011 - accuracy: 0.1988\n",
            "Epoch 14/15\n",
            "8000/8000 [==============================] - 15s 2ms/step - loss: 0.1011 - accuracy: 0.2006\n",
            "Epoch 15/15\n",
            "8000/8000 [==============================] - 15s 2ms/step - loss: 0.1007 - accuracy: 0.2026\n"
          ],
          "name": "stdout"
        },
        {
          "output_type": "execute_result",
          "data": {
            "text/plain": [
              "<keras.callbacks.History at 0x7f5541bb7c10>"
            ]
          },
          "metadata": {
            "tags": []
          },
          "execution_count": 107
        }
      ]
    },
    {
      "cell_type": "code",
      "metadata": {
        "id": "S60BOH8s8YT8"
      },
      "source": [
        "y_predict=classifier.predict(x_test)"
      ],
      "execution_count": 109,
      "outputs": []
    },
    {
      "cell_type": "code",
      "metadata": {
        "colab": {
          "base_uri": "https://localhost:8080/"
        },
        "id": "ridG2LUP-wRe",
        "outputId": "e8fb6389-3742-4f48-a1c3-066c3f4658ee"
      },
      "source": [
        "y_predict.shape"
      ],
      "execution_count": 110,
      "outputs": [
        {
          "output_type": "execute_result",
          "data": {
            "text/plain": [
              "(10000, 1)"
            ]
          },
          "metadata": {
            "tags": []
          },
          "execution_count": 110
        }
      ]
    },
    {
      "cell_type": "code",
      "metadata": {
        "colab": {
          "base_uri": "https://localhost:8080/"
        },
        "id": "sFC4Bht_-4X3",
        "outputId": "ed191b9e-b45d-4cc0-96fa-e3269644f244"
      },
      "source": [
        "r2_score(y_test, y_predict)"
      ],
      "execution_count": 111,
      "outputs": [
        {
          "output_type": "execute_result",
          "data": {
            "text/plain": [
              "0.9965805061653267"
            ]
          },
          "metadata": {
            "tags": []
          },
          "execution_count": 111
        }
      ]
    },
    {
      "cell_type": "code",
      "metadata": {
        "id": "FEserLYR_UcJ"
      },
      "source": [
        ""
      ],
      "execution_count": null,
      "outputs": []
    },
    {
      "cell_type": "markdown",
      "metadata": {
        "id": "Ga_B50gXBoJt"
      },
      "source": [
        "using kfold"
      ]
    },
    {
      "cell_type": "code",
      "metadata": {
        "id": "1JWpcuJ1_Wjf"
      },
      "source": [
        "from sklearn.model_selection import train_test_split,KFold,cross_val_score\n",
        "from keras.models import Sequential\n",
        "from keras.layers import Activation, Dense,Flatten,LSTM,Dropout\n",
        "kfold=KFold(5,True,5)\n",
        "cvscores = []"
      ],
      "execution_count": 112,
      "outputs": []
    },
    {
      "cell_type": "code",
      "metadata": {
        "colab": {
          "base_uri": "https://localhost:8080/"
        },
        "id": "JWJvXsXl_clB",
        "outputId": "1de148ad-6db5-4073-d864-f87b6d31be38"
      },
      "source": [
        "for train, test in kfold.split(X):\n",
        "  X_train=X[train]\n",
        "  y_train=Y[train]\n",
        "  X_test=X[test]\n",
        "  y_test=Y[test]\n",
        "  \n",
        "  classifier = Sequential()\n",
        "\n",
        "# Build the input and hidden layers with dropout\n",
        "  classifier.add(Dense(units = 200, activation = 'relu', kernel_initializer = 'uniform', input_dim = 14))\n",
        "  classifier.add(Dropout(rate = 0.1))\n",
        "\n",
        "# Adding the second hidden layer\n",
        "  classifier.add(Dense(units = 200, activation = 'relu', kernel_initializer = 'uniform'))\n",
        "  classifier.add(Dropout(rate = 0.1))\n",
        "\n",
        "# Adding the third hidden layer\n",
        "  classifier.add(Dense(units = 200, activation = 'relu', kernel_initializer = 'uniform'))\n",
        "  classifier.add(Dropout(rate = 0.1))\n",
        "\n",
        "# Adding an output layer\n",
        "  classifier.add(Dense(units = 1, kernel_initializer = 'uniform', activation = 'sigmoid'))\n",
        "\n",
        "  model.compile(loss='mse', optimizer='adam',metrics =[\"mse\"])\n",
        "  model.fit(x_train, y_train, epochs=15, batch_size=64, verbose=0,shuffle=False)\n",
        "  \n",
        "  scores = model.evaluate(x_test,y_test,verbose=0)\n",
        "  print(\"%s: %.2f%%\" % (model.metrics_names[1], scores[1]*100))\n",
        "  cvscores.append(scores[1] * 100)\n",
        "print(\"%.2f%% (+/- %.2f%%)\" % (np.mean(cvscores), np.std(cvscores)))"
      ],
      "execution_count": 114,
      "outputs": [
        {
          "output_type": "stream",
          "text": [
            "mse: 11.18%\n",
            "mse: 11.25%\n",
            "mse: 11.21%\n",
            "mse: 11.20%\n",
            "mse: 11.20%\n",
            "11.21% (+/- 0.03%)\n"
          ],
          "name": "stdout"
        }
      ]
    }
  ]
}